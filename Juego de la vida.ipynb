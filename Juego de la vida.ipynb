{
 "cells": [
  {
   "attachments": {
    "https://images.app.goo.gl/WXwjkjBUkbmcbQBg7": {
     "image/jpeg": "[encoded data removed]"
    }
   },
   "cell_type": "markdown",
   "metadata": {},
   "source": [
    "# UNIVERSIDAD POLITECNICA SALESIANA\n",
    "### Christian Dután\n",
    "# JUEGO DE LA VIDA\n",
    "El juego de la vida es un autómata celular diseñado por el matemático británico John Conway en 1970 y publicado en la columna Mathematical Games de Martin Gardner en la revista Scientific American. Un autómata celular es un modelo matemático para un sistema dinámico que evoluciona a pasos discretos desarrollado prácticamente por John Von Neumann y teóricamente por Konrad Zuse y Stanislaw Ulam.\n",
    "\n",
    "### John Conway\n",
    "\n",
    "\n",
    "\n",
    "![John%20Conway.jpg](attachment:John%20Conway.jpg)\n",
    "\n",
    "Nacido en Liverpool, Reino Unido, el 26 de diciembre de 1937 Se formó en la Universidad de Cambridge. Conocido por la teoría de juegos combinatorios con el juego de la vida. También se le atribuye el juego de drago y Phutball y problemas como el cubo soma. Hoy en día es profesor en la Universidad de Princeton, y h sido elegido como miembro de la Royal Society \n",
    "\n",
    "## Elementos que Constituye \n",
    "+ Un Espacio regular\n",
    "+ Conjunto de estados\n",
    "+ Configuración inicial \n",
    "+ Vecindades \n",
    "+ Función de Transición local\n",
    "\n",
    "## Reglas del juego\n",
    "+ Cualquier célula con menos de 2 vecinos muere, por soledad.\n",
    "+ Cualquier célula con 2 a 3 vecinos sobrevive.\n",
    "+ Cualquier célula con más de 3 vecinos muere, por sobre población.\n",
    "+ En los espacios con exactamente 3 vecinos, nace una nueva célula.\n",
    "\n",
    "## Formulacion del Problema \n",
    "\n",
    "Teniendo en consideración la importacia del algoritmo del juego de la vida, se planteo realizar dicha simulación utilizando un patron de 8 figuras, las mismas que forman el nombre del estudiante CRISTIAN.\n",
    "\n",
    "## Resultados que se esperan del simulador \n",
    "\n",
    "Como resultado esperado se tiene previsto que el simulador se ejecute de acuerdo a las iteraccion que uno desee visulizar \n",
    "\n",
    "## Plan de experimentación \n",
    " \n",
    " segun las celulas que se tiene y el numero de iteraccion que se van a relizar ver el numero de celulas vivas que quedan al final de las itecciones\n",
    " \n",
    "## Tiempo disponible \n",
    " 2 semanas\n",
    "\n",
    "## Variables de interés \n",
    " + numero de itecciones \n",
    " + numero de celulas muertas\n",
    " + numero de celulas vivas\n",
    " + tamañan de la matriz "
   ]
  },
  {
   "cell_type": "code",
   "execution_count": 11,
   "metadata": {},
   "outputs": [],
   "source": [
    "import numpy as np\n",
    "import matplotlib.pyplot as plt\n",
    "import matplotlib.patches as patches"
   ]
  },
  {
   "cell_type": "code",
   "execution_count": 12,
   "metadata": {},
   "outputs": [],
   "source": [
    "def exten(mat):\n",
    "    n = len(mat)\n",
    "    ex  = np.zeros((n+2,n+2))\n",
    "    ex[1:n+1,1:n+1] = mat\n",
    "    return ex "
   ]
  },
  {
   "cell_type": "code",
   "execution_count": 13,
   "metadata": {},
   "outputs": [],
   "source": [
    "def sumavecinos(i,j, ex):\n",
    "    return (ex[i,j-1] + ex[i,j+1] + ex[i-1,j-1] + \n",
    "            (ex[i-1,j] + ex[i-1,j+1] + ex[i+1,j-1]) + \n",
    "            (ex[i+1,j]+ ex[i+1,j+1]))"
   ]
  },
  {
   "cell_type": "code",
   "execution_count": 14,
   "metadata": {},
   "outputs": [],
   "source": [
    "def reglas(mat):\n",
    "    n = len(mat)\n",
    "    ex  = exten(mat)\n",
    "    nmat = np.zeros((n,n))\n",
    "    for i in range(1,n+1):\n",
    "        for j in range(1,n+1):\n",
    "            s = sumavecinos(i,j,ex)\n",
    "            if  s>3 or s <=1: \n",
    "                nmat[i-1,j-1] = 0\n",
    "            if s == 3 and mat[i-1,j-1]== 0: \n",
    "                nmat[i-1,j-1] = 1\n",
    "            if (s == 3 or s== 2) and mat[i-1,j-1]== 1: \n",
    "                nmat[i-1,j-1] = 1\n",
    "    return nmat"
   ]
  },
  {
   "cell_type": "code",
   "execution_count": 15,
   "metadata": {},
   "outputs": [],
   "source": [
    "def evolucion(n,ini):\n",
    "    historia = []\n",
    "    historia.append(ini)\n",
    "    g = ini \n",
    "    for i in range(n):\n",
    "        g = reglas(g)\n",
    "        historia.append(g)\n",
    "    return historia"
   ]
  },
  {
   "cell_type": "code",
   "execution_count": 16,
   "metadata": {},
   "outputs": [],
   "source": [
    "def andamio(mt):\n",
    "    n = len(mt)\n",
    "    dx = 1/n\n",
    "    pieces = []\n",
    "    frame = patches.Rectangle(\n",
    "        (0.0, 0.0),1, 1, fill=False, edgecolor=\"green\",linewidth=2) \n",
    "    pieces.append(frame)\n",
    "    for j in range(n):\n",
    "        for i in range(n):\n",
    "            if mt[i,j]==1:\n",
    "                p = patches.Rectangle(\n",
    "                    (j/n,(n-1-i)/n), dx,dx, edgecolor=\"green\", facecolor=\"black\", fill=True,linewidth=2 )\n",
    "                pieces.append(p)\n",
    "            if mt[i,j]==0:\n",
    "                p = patches.Rectangle(\n",
    "                    (j/n,(n-1-i)/n), dx,dx, edgecolor=\"green\", fill=False,linewidth=2)\n",
    "                pieces.append(p)\n",
    "    return pieces"
   ]
  },
  {
   "cell_type": "code",
   "execution_count": 17,
   "metadata": {},
   "outputs": [],
   "source": [
    "def muestre(x):\n",
    "    ax1=plt.subplot(111,aspect='equal')\n",
    "    shape = andamio(x)\n",
    "    for p in shape: ax1.add_patch(p)\n",
    "    plt.axis('off')\n",
    "    plt.show() "
   ]
  },
  {
   "cell_type": "code",
   "execution_count": 18,
   "metadata": {},
   "outputs": [],
   "source": [
    "init = np.zeros((20,20))\n",
    "\n",
    "init[4,12] = 1\n",
    "init[4,11] = 1\n",
    "init[4,10] = 1\n",
    "init[4,9] = 1\n",
    "init[4,8] = 1\n",
    "init[4,7] = 1\n",
    "init[4,6] = 1\n",
    "init[4,5] = 1\n",
    "init[4,4] = 1\n",
    "init[5,4] = 1\n",
    "init[6,4] = 1\n",
    "init[7,4] = 1\n",
    "init[8,4] = 1\n",
    "init[9,4] = 1\n",
    "init[10,4] = 1\n",
    "init[11,4] = 1\n",
    "init[12,4] = 1\n",
    "init[13,4] = 1\n",
    "init[14,4] = 1\n",
    "init[14,5] = 1\n",
    "init[14,6] = 1\n",
    "init[14,7] = 1\n",
    "init[14,8] = 1\n",
    "init[14,9] = 1\n",
    "init[14,10] = 1\n",
    "init[14,11] = 1\n",
    "init[14,12] = 1\n",
    "\n",
    "init1 = np.zeros((20,20))\n",
    "\n",
    "init1[5,11] = 1\n",
    "init1[6,11] = 1\n",
    "init1[7,11] = 1\n",
    "init1[8,11] = 1\n",
    "init1[8,10] = 1\n",
    "init1[8,9] = 1\n",
    "init1[8,8] = 1\n",
    "init1[8,7] = 1\n",
    "init1[8,6] = 1\n",
    "init1[8,5] = 1\n",
    "init1[8,4] = 1\n",
    "init1[4,11] = 1\n",
    "init1[4,10] = 1\n",
    "init1[4,9] = 1\n",
    "init1[4,8] = 1\n",
    "init1[4,7] = 1\n",
    "init1[4,6] = 1\n",
    "init1[4,5] = 1\n",
    "init1[4,4] = 1\n",
    "init1[5,4] = 1\n",
    "init1[6,4] = 1\n",
    "init1[7,4] = 1\n",
    "init1[8,4] = 1\n",
    "init1[9,4] = 1\n",
    "init1[10,4] = 1\n",
    "init1[11,4] = 1\n",
    "init1[12,4] = 1\n",
    "init1[13,4] = 1\n",
    "init1[14,4] = 1\n",
    "init1[15,4] = 1\n",
    "init1[9,5] = 1\n",
    "init1[10,6] = 1\n",
    "init1[11,7] = 1\n",
    "init1[12,8] = 1\n",
    "init1[13,9] = 1\n",
    "init1[14,10] = 1\n",
    "init1[15,11] = 1\n",
    "\n",
    "init2 = np.zeros((20,20))\n",
    "\n",
    "init2[4,13] = 1\n",
    "init2[4,12] = 1\n",
    "init2[4,11] = 1\n",
    "init2[4,10] = 1\n",
    "init2[4,9] = 1\n",
    "init2[4,8] = 1\n",
    "init2[4,7] = 1\n",
    "init2[4,6] = 1\n",
    "init2[4,5] = 1\n",
    "init2[4,9] = 1\n",
    "init2[5,9] = 1\n",
    "init2[6,9] = 1\n",
    "init2[7,9] = 1\n",
    "init2[8,9] = 1\n",
    "init2[9,9] = 1\n",
    "init2[10,9] = 1\n",
    "init2[11,9] = 1\n",
    "init2[12,9] = 1\n",
    "init2[13,9] = 1\n",
    "init2[14,9] = 1\n",
    "init2[14,5] = 1\n",
    "init2[14,6] = 1\n",
    "init2[14,7] = 1\n",
    "init2[14,8] = 1\n",
    "init2[14,9] = 1\n",
    "init2[14,10] = 1\n",
    "init2[14,11] = 1\n",
    "init2[14,12] = 1\n",
    "init2[14,13] = 1\n",
    "\n",
    "init3 = np.zeros((20,20))\n",
    "\n",
    "init3[4,12] = 1\n",
    "init3[4,11] = 1\n",
    "init3[4,10] = 1\n",
    "init3[4,9] = 1\n",
    "init3[4,8] = 1\n",
    "init3[4,7] = 1\n",
    "init3[4,6] = 1\n",
    "init3[4,5] = 1\n",
    "init3[4,4] = 1\n",
    "init3[9,4] = 1\n",
    "init3[9,5] = 1\n",
    "init3[9,6] = 1\n",
    "init3[9,7] = 1\n",
    "init3[9,8] = 1\n",
    "init3[9,9] = 1\n",
    "init3[9,10] = 1\n",
    "init3[9,11] = 1\n",
    "init3[9,12] = 1\n",
    "init3[5,4] = 1\n",
    "init3[6,4] = 1\n",
    "init3[7,4] = 1\n",
    "init3[8,4] = 1\n",
    "init3[9,4] = 1\n",
    "init3[14,12] = 1\n",
    "init3[14,12] = 1\n",
    "init3[14,12] = 1\n",
    "init3[14,12] = 1\n",
    "init3[14,12] = 1\n",
    "init3[14,5] = 1\n",
    "init3[14,6] = 1\n",
    "init3[14,7] = 1\n",
    "init3[14,8] = 1\n",
    "init3[14,9] = 1\n",
    "init3[14,10] = 1\n",
    "init3[14,11] = 1\n",
    "init3[14,12] = 1\n",
    "init3[10,12] = 1\n",
    "init3[11,12] = 1\n",
    "init3[12,12] = 1\n",
    "init3[13,12] = 1\n",
    "init3[14,4] = 1\n",
    "\n",
    "\n",
    "\n",
    "init4 = np.zeros((20,20))\n",
    "\n",
    "init4[4,13] = 1\n",
    "init4[4,12] = 1\n",
    "init4[4,11] = 1\n",
    "init4[4,10] = 1\n",
    "init4[4,9] = 1\n",
    "init4[4,8] = 1\n",
    "init4[4,7] = 1\n",
    "init4[4,6] = 1\n",
    "init4[4,5] = 1\n",
    "init4[4,9] = 1\n",
    "init4[5,9] = 1\n",
    "init4[6,9] = 1\n",
    "init4[7,9] = 1\n",
    "init4[8,9] = 1\n",
    "init4[9,9] = 1\n",
    "init4[10,9] = 1\n",
    "init4[11,9] = 1\n",
    "init4[12,9] = 1\n",
    "init4[13,9] = 1\n",
    "init4[14,9] = 1\n",
    "\n",
    "init5 = np.zeros((20,20))\n",
    "\n",
    "init5[4,13] = 1\n",
    "init5[4,12] = 1\n",
    "init5[4,11] = 1\n",
    "init5[4,10] = 1\n",
    "init5[4,9] = 1\n",
    "init5[4,8] = 1\n",
    "init5[4,7] = 1\n",
    "init5[4,6] = 1\n",
    "init5[4,5] = 1\n",
    "init5[4,9] = 1\n",
    "init5[5,9] = 1\n",
    "init5[6,9] = 1\n",
    "init5[7,9] = 1\n",
    "init5[8,9] = 1\n",
    "init5[9,9] = 1\n",
    "init5[10,9] = 1\n",
    "init5[11,9] = 1\n",
    "init5[12,9] = 1\n",
    "init5[13,9] = 1\n",
    "init5[14,9] = 1\n",
    "init5[14,5] = 1\n",
    "init5[14,6] = 1\n",
    "init5[14,7] = 1\n",
    "init5[14,8] = 1\n",
    "init5[14,9] = 1\n",
    "init5[14,10] = 1\n",
    "init5[14,11] = 1\n",
    "init5[14,12] = 1\n",
    "init5[14,13] = 1\n",
    "\n",
    "\n",
    "init6 = np.zeros((20,20))\n",
    "\n",
    "init6[5,11] = 1\n",
    "init6[6,11] = 1\n",
    "init6[7,11] = 1\n",
    "init6[8,11] = 1\n",
    "init6[8,10] = 1\n",
    "init6[8,9] = 1\n",
    "init6[8,8] = 1\n",
    "init6[8,7] = 1\n",
    "init6[8,6] = 1\n",
    "init6[8,5] = 1\n",
    "init6[8,4] = 1\n",
    "init6[4,11] = 1\n",
    "init6[4,10] = 1\n",
    "init6[4,9] = 1\n",
    "init6[4,8] = 1\n",
    "init6[4,7] = 1\n",
    "init6[4,6] = 1\n",
    "init6[4,5] = 1\n",
    "init6[4,4] = 1\n",
    "init6[5,4] = 1\n",
    "init6[6,4] = 1\n",
    "init6[7,4] = 1\n",
    "init6[8,4] = 1\n",
    "init6[9,4] = 1\n",
    "init6[10,4] = 1\n",
    "init6[11,4] = 1\n",
    "init6[12,4] = 1\n",
    "init6[13,4] = 1\n",
    "init6[14,4] = 1\n",
    "init6[15,4] = 1\n",
    "init6[9,11] = 1\n",
    "init6[10,11] = 1\n",
    "init6[11,11] = 1\n",
    "init6[12,11] = 1\n",
    "init6[13,11] = 1\n",
    "init6[14,11] = 1\n",
    "init6[15,11] = 1\n",
    "\n",
    "init7 = np.zeros((20,20))\n",
    "\n",
    "init7[4,13] = 1\n",
    "init7[5,13] = 1\n",
    "init7[6,13] = 1\n",
    "init7[7,13] = 1\n",
    "init7[8,13] = 1\n",
    "init7[9,13] = 1\n",
    "init7[10,13] = 1\n",
    "init7[11,13] = 1\n",
    "init7[12,13] = 1\n",
    "init7[13,13] = 1\n",
    "init7[14,13] = 1\n",
    "init7[4,4] = 1\n",
    "init7[5,4] = 1\n",
    "init7[6,4] = 1\n",
    "init7[7,4] = 1\n",
    "init7[8,4] = 1\n",
    "init7[9,4] = 1\n",
    "init7[10,4] = 1\n",
    "init7[11,4] = 1\n",
    "init7[12,4] = 1\n",
    "init7[13,4] = 1\n",
    "init7[14,4] = 1\n",
    "init7[5,5] = 1\n",
    "init7[6,6] = 1\n",
    "init7[7,7] = 1\n",
    "init7[8,8] = 1\n",
    "init7[9,9] = 1\n",
    "init7[10,10] = 1\n",
    "init7[11,11] = 1\n",
    "init7[12,12] = 1\n",
    "\n",
    "\n"
   ]
  },
  {
   "cell_type": "code",
   "execution_count": 29,
   "metadata": {
    "scrolled": true
   },
   "outputs": [
    {
     "data": {
      "image/png": "[encoded data removed]",
      "text/plain": [
       "<Figure size 432x288 with 1 Axes>"
      ]
     },
     "metadata": {
      "needs_background": "light"
     },
     "output_type": "display_data"
    }
   ],
   "source": [
    "ev = evolucion(46, init) \n",
    "muestre(init)\n",
    "\n"
   ]
  },
  {
   "cell_type": "code",
   "execution_count": 30,
   "metadata": {},
   "outputs": [
    {
     "data": {
      "image/png": "[encoded data removed]",
      "text/plain": [
       "<Figure size 432x288 with 1 Axes>"
      ]
     },
     "metadata": {
      "needs_background": "light"
     },
     "output_type": "display_data"
    }
   ],
   "source": [
    "ev1 = evolucion(47, init1) \n",
    "muestre(init1)"
   ]
  },
  {
   "cell_type": "code",
   "execution_count": 31,
   "metadata": {},
   "outputs": [
    {
     "data": {
      "image/png": "[encoded data removed]",
      "text/plain": [
       "<Figure size 432x288 with 1 Axes>"
      ]
     },
     "metadata": {
      "needs_background": "light"
     },
     "output_type": "display_data"
    }
   ],
   "source": [
    "ev2 = evolucion(48, init2) \n",
    "muestre(init2)"
   ]
  },
  {
   "cell_type": "code",
   "execution_count": 32,
   "metadata": {},
   "outputs": [
    {
     "data": {
      "image/png": "[encoded data removed]",
      "text/plain": [
       "<Figure size 432x288 with 1 Axes>"
      ]
     },
     "metadata": {
      "needs_background": "light"
     },
     "output_type": "display_data"
    }
   ],
   "source": [
    "ev3 = evolucion(49, init3) \n",
    "muestre(init3)"
   ]
  },
  {
   "cell_type": "code",
   "execution_count": 33,
   "metadata": {},
   "outputs": [
    {
     "data": {
      "image/png": "[encoded data removed]",
      "text/plain": [
       "<Figure size 432x288 with 1 Axes>"
      ]
     },
     "metadata": {
      "needs_background": "light"
     },
     "output_type": "display_data"
    }
   ],
   "source": [
    "ev4 = evolucion(50, init4) \n",
    "muestre(init4)"
   ]
  },
  {
   "cell_type": "code",
   "execution_count": 34,
   "metadata": {},
   "outputs": [
    {
     "data": {
      "image/png": "[encoded data removed]",
      "text/plain": [
       "<Figure size 432x288 with 1 Axes>"
      ]
     },
     "metadata": {
      "needs_background": "light"
     },
     "output_type": "display_data"
    }
   ],
   "source": [
    "\n",
    "ev5 = evolucion(51, init5) \n",
    "muestre(init5)\n"
   ]
  },
  {
   "cell_type": "code",
   "execution_count": 35,
   "metadata": {},
   "outputs": [
    {
     "data": {
      "image/png": "[encoded data removed]",
      "text/plain": [
       "<Figure size 432x288 with 1 Axes>"
      ]
     },
     "metadata": {
      "needs_background": "light"
     },
     "output_type": "display_data"
    }
   ],
   "source": [
    "ev6 = evolucion(53, init6) \n",
    "muestre(init6)"
   ]
  },
  {
   "cell_type": "code",
   "execution_count": 36,
   "metadata": {},
   "outputs": [
    {
     "data": {
      "image/png": "[encoded data removed]",
      "text/plain": [
       "<Figure size 432x288 with 1 Axes>"
      ]
     },
     "metadata": {
      "needs_background": "light"
     },
     "output_type": "display_data"
    }
   ],
   "source": [
    "ev7 = evolucion(53, init7) \n",
    "muestre(init7)"
   ]
  },
  {
   "cell_type": "code",
   "execution_count": 58,
   "metadata": {},
   "outputs": [],
   "source": [
    "def muestre4(w,x, y, z):\n",
    "    fg = plt.figure(figsize=(16,4))\n",
    "    adj = plt.subplots_adjust(hspace=0.4)\n",
    "    ##############################################\n",
    "    ax1=plt.subplot(141,aspect='equal')\n",
    "    shape = andamio(w)\n",
    "    for p in shape: ax1.add_patch(p)\n",
    "    plt.axis('off')\n",
    "    ######################################################\n",
    "    ax2=plt.subplot(142,aspect='equal')\n",
    "    shape = andamio(x)\n",
    "    for p in shape: ax2.add_patch(p)\n",
    "    plt.axis('off')\n",
    "    ##############################################\n",
    "    ax3=plt.subplot(143,aspect='equal')\n",
    "    shape = andamio(y)\n",
    "    for p in shape: ax3.add_patch(p)\n",
    "    plt.axis('off')\n",
    "    ###########################################\n",
    "    ax4=plt.subplot(144,aspect='equal')\n",
    "    shape = andamio(z)\n",
    "    for p in shape: ax4.add_patch(p)\n",
    "    plt.axis('off')\n",
    "    ################################################\n",
    "    plt.show() "
   ]
  },
  {
   "cell_type": "code",
   "execution_count": 59,
   "metadata": {
    "scrolled": true
   },
   "outputs": [
    {
     "data": {
      "image/png": "[encoded data removed]",
      "text/plain": [
       "<Figure size 1152x288 with 4 Axes>"
      ]
     },
     "metadata": {
      "needs_background": "light"
     },
     "output_type": "display_data"
    }
   ],
   "source": [
    "muestre4(ev[0], ev[1], ev[2], ev[3])"
   ]
  },
  {
   "cell_type": "code",
   "execution_count": 41,
   "metadata": {},
   "outputs": [
    {
     "data": {
      "image/png": "[encoded data removed]",
      "text/plain": [
       "<Figure size 1152x288 with 4 Axes>"
      ]
     },
     "metadata": {
      "needs_background": "light"
     },
     "output_type": "display_data"
    }
   ],
   "source": [
    "muestre4(ev1[0], ev1[1], ev1[2], ev1[3])"
   ]
  },
  {
   "cell_type": "code",
   "execution_count": 42,
   "metadata": {},
   "outputs": [
    {
     "data": {
      "image/png": "[encoded data removed]",
      "text/plain": [
       "<Figure size 1152x288 with 4 Axes>"
      ]
     },
     "metadata": {
      "needs_background": "light"
     },
     "output_type": "display_data"
    }
   ],
   "source": [
    "muestre4(ev2[0], ev2[1], ev2[2], ev2[3])"
   ]
  },
  {
   "cell_type": "code",
   "execution_count": 43,
   "metadata": {},
   "outputs": [
    {
     "data": {
      "image/png": "[encoded data removed]",
      "text/plain": [
       "<Figure size 1152x288 with 4 Axes>"
      ]
     },
     "metadata": {
      "needs_background": "light"
     },
     "output_type": "display_data"
    }
   ],
   "source": [
    "muestre4(ev3[0], ev3[1], ev3[2], ev3[3])"
   ]
  },
  {
   "cell_type": "code",
   "execution_count": 44,
   "metadata": {},
   "outputs": [
    {
     "data": {
      "image/png": "[encoded data removed]",
      "text/plain": [
       "<Figure size 1152x288 with 4 Axes>"
      ]
     },
     "metadata": {
      "needs_background": "light"
     },
     "output_type": "display_data"
    }
   ],
   "source": [
    "muestre4(ev4[0], ev4[1], ev4[2], ev4[3])"
   ]
  },
  {
   "cell_type": "code",
   "execution_count": 45,
   "metadata": {},
   "outputs": [
    {
     "data": {
      "image/png": "[encoded data removed]",
      "text/plain": [
       "<Figure size 1152x288 with 4 Axes>"
      ]
     },
     "metadata": {
      "needs_background": "light"
     },
     "output_type": "display_data"
    }
   ],
   "source": [
    "muestre4(ev5[0], ev5[1], ev5[2], ev5[3])"
   ]
  },
  {
   "cell_type": "code",
   "execution_count": 46,
   "metadata": {},
   "outputs": [
    {
     "data": {
      "image/png": "[encoded data removed]",
      "text/plain": [
       "<Figure size 1152x288 with 4 Axes>"
      ]
     },
     "metadata": {
      "needs_background": "light"
     },
     "output_type": "display_data"
    }
   ],
   "source": [
    "muestre4(ev6[0], ev6[1], ev6[2], ev6[3])"
   ]
  },
  {
   "cell_type": "code",
   "execution_count": 47,
   "metadata": {},
   "outputs": [
    {
     "data": {
      "image/png": "[encoded data removed]",
      "text/plain": [
       "<Figure size 1152x288 with 4 Axes>"
      ]
     },
     "metadata": {
      "needs_background": "light"
     },
     "output_type": "display_data"
    }
   ],
   "source": [
    "muestre4(ev7[0], ev7[1], ev7[2], ev7[3])"
   ]
  },
  {
   "cell_type": "markdown",
   "metadata": {},
   "source": [
    "# SIMULACIÓN"
   ]
  },
  {
   "cell_type": "code",
   "execution_count": 48,
   "metadata": {},
   "outputs": [],
   "source": [
    "from collections import Counter\n",
    "\n",
    "def next_generation(world):\n",
    "    \"The set of live cells in the next generation.\"\n",
    "    possible_cells = counts = neighbor_counts(world)\n",
    "    return {cell for cell in possible_cells\n",
    "            if (counts[cell] == 3) \n",
    "            or (counts[cell] == 2 and cell in world)}\n",
    "\n",
    "def neighbor_counts(world):\n",
    "    \"A {cell: int} counter of the number of live neighbors for each cell that has neighbors.\"\n",
    "    return Counter(nb for cell in world \n",
    "                      for nb in neighbors(cell))\n",
    "\n",
    "def neighbors(cell):\n",
    "    \"All 8 adjacent neighbors of cell.\"\n",
    "    (x, y) = cell\n",
    "    return [(x-1, y-1), (x, y-1), (x+1, y-1), \n",
    "            (x-1, y),             (x+1, y), \n",
    "            (x-1, y+1), (x, y+1), (x+1, y+1)]"
   ]
  },
  {
   "cell_type": "markdown",
   "metadata": {},
   "source": [
    "\n",
    "## LETRA C\n",
    "\n",
    "world = {(4, 12), (4, 11), (4, 10), (4, 9),(4,8),(4,7),(4,6),(4,5),(4,4),(5,4),(6,4),(7,4),(8,4),(9,4),(10,4),(11,4),(12,4),(13,4),(14,4),(14,5),(14,6),(14,7),(14,8),(14,9),(14,10),(14,11),(14,12)}\n",
    "next_generation(world)\n",
    "\n",
    "## LETRA R\n",
    "\n",
    "world = {\n",
    "    (5, 11),(6,11),(7,11),(8,11),(8,10),(8,9),(8,8),(8,7),(8,6),(8,5),(8,4),(4,11),(4,10),(4,9),(4,8),(4,7),(4,6),(4,5),(4,4),(5,4),(6,4),(7,4),(8,4),(9,4),(10,4),(11,4),(12,4),(13,4),(14,4),(15,4),(9,5),(10,6),(11,7),(12,8),(13,9),(14,10),(15,11)} \n",
    "next_generation(world)\n",
    "\n",
    "## LETRA I\n",
    "\n",
    "world = {(4,13),(4,12),(4,11),(4,10),(4,9),(4,8),(4,7),(4,6),(4,5),(4,9),(5,9),(6,9),(7,9),(8,9),(9,9),(10,9),(11,9),(12,9),(13,9),(14,9),(14,5),(14,6),(14,7),(14,8),(14,9),(14,10),(14,11),(14,12),(14,13)}\n",
    "next_generation(world)\n",
    "\n",
    "\n",
    "## LETRA S\n",
    "\n",
    "world = {(4,12),(4,11),(4,10),(4,9),(4,8),(4,7),(4,6),(4,5),(4,4),(9,4),(9,5),(9,6),(9,7),(9,8),(9,9),(9,10),(9,11),(9,12),(5,4),(6,4),(7,4),(8,4),(9,4),(14,12),(14,12),(14,12),(14,12),(14,12),(14,5),(14,6),(14,7),(14,8),(14,9),(14,10),(14,11)(14,12),(10,12),(11,12),(12,12),(13,12),(14,4)}\n",
    "next_generation(world)\n",
    "\n",
    "## LETRA T\n",
    "\n",
    "world = {(4,13),(4,12),(4,11),(4,10),(4,9),(4,8),(4,7),(4,6),(4,5),(4,9),(5,9),(6,9),(7,9),(8,9),(9,9),(10,9),(11,9),(12,9),(13,9),(14,9)}\n",
    "next_generation(world)\n",
    "\n",
    "## LETRA I\n",
    "\n",
    "world = {(4,13),(4,12),(4,11),(4,10),(4,9),(4,8),(4,7),(4,6),(4,5),(4,9),(5,9),(6,9),(7,9),(8,9),(9,9),(10,9),(11,9),(12,9),(13,9),(14,9),(14,5),(14,6),(14,7),(14,8),(14,9),(14,10),(14,11),(14,12),(14,13)}\n",
    "next_generation(world)\n",
    "\n",
    "## LETRA A\n",
    "\n",
    "world = {(5,11),(6,11),(7,11),(8,11),(8,10),(8,9),(8,8),(8,7),(8,6),(8,5),(8,4),(4,11),(4,10),(4,9),(4,8),(4,7),(4,6),(4,5),(4,4),(5,4),(6,4),(7,4),(8,4),(9,4),(10,4),(11,4),(12,4),(13,4)(14,4),(15,4),(9,11),(10,11),(11,11),(12,11),(13,11),(14,11),(15,11)}\n",
    "next_generation(world)\n",
    "\n",
    "## LETRA N\n",
    "\n",
    "world = {(4,13),(5,13),(6,13),(7,13),(8,13),(9,13),(10,13),(11,13),(12,13),(13,13),(14,13),(4,4),(5,4),(6,4),(7,4),(8,4),(9,4),(10,4),(11,4),(12,4),(13,4),(14,4),(5,5),(6,6),(7,7),(8,8),(9,9),(10,10),(11,11),(12,12)}\n",
    "next_generation(world)\n"
   ]
  },
  {
   "cell_type": "code",
   "execution_count": 130,
   "metadata": {},
   "outputs": [
    {
     "data": {
      "text/plain": [
       "{(3, 5),\n",
       " (3, 6),\n",
       " (3, 7),\n",
       " (3, 8),\n",
       " (3, 9),\n",
       " (3, 10),\n",
       " (4, 4),\n",
       " (4, 5),\n",
       " (4, 6),\n",
       " (4, 7),\n",
       " (4, 8),\n",
       " (4, 9),\n",
       " (4, 10),\n",
       " (4, 11),\n",
       " (5, 3),\n",
       " (5, 4),\n",
       " (5, 6),\n",
       " (5, 7),\n",
       " (5, 8),\n",
       " (5, 9),\n",
       " (5, 11),\n",
       " (5, 12),\n",
       " (6, 3),\n",
       " (6, 4),\n",
       " (6, 5),\n",
       " (6, 10),\n",
       " (6, 11),\n",
       " (6, 12),\n",
       " (7, 3),\n",
       " (7, 4),\n",
       " (7, 6),\n",
       " (7, 7),\n",
       " (7, 8),\n",
       " (7, 9),\n",
       " (7, 11),\n",
       " (7, 12),\n",
       " (8, 3),\n",
       " (8, 6),\n",
       " (8, 7),\n",
       " (8, 8),\n",
       " (8, 9),\n",
       " (8, 10),\n",
       " (8, 11),\n",
       " (9, 3),\n",
       " (9, 8),\n",
       " (9, 9),\n",
       " (9, 10),\n",
       " (10, 3),\n",
       " (10, 4),\n",
       " (10, 6),\n",
       " (11, 3),\n",
       " (11, 4),\n",
       " (11, 7),\n",
       " (12, 3),\n",
       " (12, 4),\n",
       " (12, 5),\n",
       " (12, 8),\n",
       " (13, 3),\n",
       " (13, 4),\n",
       " (13, 5),\n",
       " (13, 9),\n",
       " (14, 3),\n",
       " (14, 4),\n",
       " (14, 5),\n",
       " (14, 10)}"
      ]
     },
     "execution_count": 130,
     "metadata": {},
     "output_type": "execute_result"
    }
   ],
   "source": [
    "world = {\n",
    "    (5, 11),(6,11),(7,11),(8,11),(8,10),(8,9),(8,8),(8,7),(8,6),(8,5),(8,4),(4,11),(4,10),(4,9),(4,8),(4,7),(4,6),(4,5),(4,4),(5,4),(6,4),(7,4),(8,4),(9,4),(10,4),(11,4),(12,4),(13,4),(14,4),(15,4),(9,5),(10,6),(11,7),(12,8),(13,9),(14,10),(15,11)} \n",
    "next_generation(world)\n"
   ]
  },
  {
   "cell_type": "code",
   "execution_count": 131,
   "metadata": {},
   "outputs": [],
   "source": [
    "def run(world, n):\n",
    "    \"Run the world for n generations. No display; just return the nth generation.\"\n",
    "    for g in range(n):\n",
    "        world = next_generation(world)\n",
    "    return world"
   ]
  },
  {
   "cell_type": "code",
   "execution_count": 132,
   "metadata": {},
   "outputs": [],
   "source": [
    "\n",
    "import time\n",
    "from IPython.display import clear_output, display_html\n",
    "\n",
    "LIVE  = chr(524)\n",
    "EMPTY = '.'\n",
    "PAD   = ' '\n",
    "\n",
    "def display_run(world, n=10, Xs=range(10), Ys=range(10), pause=0.1):\n",
    "    \"Step and display the world for the given number of generations.\"\n",
    "    for g in range(n + 1):\n",
    "        clear_output()\n",
    "        display_html('Generation {}, Population {}\\n{}'\n",
    "                     .format(g, len(world), pre(picture(world, Xs, Ys))), \n",
    "                     raw=True)\n",
    "        time.sleep(pause)\n",
    "        world = next_generation(world)\n",
    "        \n",
    "def pre(text): return '<pre>' + text + '</pre>'\n",
    "        \n",
    "def picture(world, Xs, Ys):\n",
    "    \"Return a picture: a grid of characters representing the cells in this window.\"\n",
    "    def row(y): return PAD.join(LIVE if (x, y) in world else EMPTY for x in Xs)\n",
    "    return '\\n'.join(row(y) for y in Ys)"
   ]
  },
  {
   "cell_type": "code",
   "execution_count": 133,
   "metadata": {},
   "outputs": [
    {
     "name": "stdout",
     "output_type": "stream",
     "text": [
      ". . . . . . . . . . . . . . . . . . . .\n",
      ". . . . . . . . . . . . . . . . . . . .\n",
      ". . . . . . . . . . . . . . . . . . . .\n",
      ". . . . . . . . . . . . . . . . . . . .\n",
      ". . . . Ȍ Ȍ Ȍ Ȍ Ȍ Ȍ Ȍ Ȍ Ȍ Ȍ Ȍ Ȍ . . . .\n",
      ". . . . Ȍ . . . Ȍ Ȍ . . . . . . . . . .\n",
      ". . . . Ȍ . . . Ȍ . Ȍ . . . . . . . . .\n",
      ". . . . Ȍ . . . Ȍ . . Ȍ . . . . . . . .\n",
      ". . . . Ȍ . . . Ȍ . . . Ȍ . . . . . . .\n",
      ". . . . Ȍ . . . Ȍ . . . . Ȍ . . . . . .\n",
      ". . . . Ȍ . . . Ȍ . . . . . Ȍ . . . . .\n",
      ". . . . Ȍ Ȍ Ȍ Ȍ Ȍ . . . . . . Ȍ . . . .\n",
      ". . . . . . . . . . . . . . . . . . . .\n",
      ". . . . . . . . . . . . . . . . . . . .\n",
      ". . . . . . . . . . . . . . . . . . . .\n",
      ". . . . . . . . . . . . . . . . . . . .\n",
      ". . . . . . . . . . . . . . . . . . . .\n",
      ". . . . . . . . . . . . . . . . . . . .\n",
      ". . . . . . . . . . . . . . . . . . . .\n",
      ". . . . . . . . . . . . . . . . . . . .\n"
     ]
    }
   ],
   "source": [
    "print(picture(world, range(20), range(20)))"
   ]
  },
  {
   "cell_type": "code",
   "execution_count": 134,
   "metadata": {},
   "outputs": [
    {
     "data": {
      "text/html": [
       "Generation 3, Population 38\n",
       "<pre>. . . . . . . . . . . . . . . . . . . .\n",
       ". . . . . . . Ȍ Ȍ Ȍ Ȍ Ȍ Ȍ . . . . . . .\n",
       ". . . . . . . Ȍ . . Ȍ Ȍ Ȍ Ȍ . . . . . .\n",
       ". . . . . . . . . . . Ȍ Ȍ Ȍ Ȍ . . . . .\n",
       ". . . . . . . . . . Ȍ . . . Ȍ Ȍ . . . .\n",
       ". . . . . . . . Ȍ . Ȍ Ȍ Ȍ Ȍ Ȍ . . . . .\n",
       ". . . . . . . . Ȍ . . . Ȍ Ȍ . . . . . .\n",
       ". Ȍ Ȍ Ȍ . . . . . . . . . Ȍ . . . . . .\n",
       ". Ȍ Ȍ Ȍ . . . . . Ȍ Ȍ . Ȍ . . . . . . .\n",
       ". . . . . . . . . . . Ȍ . . . . . . . .\n",
       ". . . . . . . . . . . . . . . . . . . .\n",
       ". . . . . . . . . . . . . . . . . . . .\n",
       ". . . . . . . . . . . . . . . . . . . .\n",
       ". . . . . . . . . . . . . . . . . . . .\n",
       ". . . . . . . . . . . . . . . . . . . .\n",
       ". . . . . . . . . . . . . . . . . . . .\n",
       ". . . . . . . . . . . . . . . . . . . .\n",
       ". . . . . . . . . . . . . . . . . . . .\n",
       ". . . . . . . . . . . . . . . . . . . .\n",
       ". . . . . . . . . . . . . . . . . . . .</pre>"
      ]
     },
     "metadata": {},
     "output_type": "display_data"
    }
   ],
   "source": [
    "display_run(world, 3, range(20), range(20))"
   ]
  },
  {
   "cell_type": "markdown",
   "metadata": {},
   "source": [
    " ## Referencias\n",
    "+  https://es.wikipedia.org/wiki/Juego_de_la_vida\n",
    "+  https://es.slideshare.net/ireacebro/el-juego-de-la-vida-61836396\n",
    "+  https://www.lawebdelprogramador.com/codigo/Java/3490-El-juego-de-la-vida.html\n",
    "+  https://www.pybonacci.org/2012/11/30/juego-de-la-vida-de-conway-con-python-usando-numpy/\n",
    "+  https://nbviewer.jupyter.org/url/norvig.com/ipython/Life.ipynb?fbclid=IwAR04V5esFTignvuEDE_6EI638Z5eQEAR8egcs9YNGt3h3h4_uPhWpTtdfdM"
   ]
  }
 ],
 "metadata": {
  "kernelspec": {
   "display_name": "Python 3.7 simpy",
   "language": "python",
   "name": "simulacion"
  },
  "language_info": {
   "codemirror_mode": {
    "name": "ipython",
    "version": 3
   },
   "file_extension": ".py",
   "mimetype": "text/x-python",
   "name": "python",
   "nbconvert_exporter": "python",
   "pygments_lexer": "ipython3",
   "version": "3.7.3"
  }
 },
 "nbformat": 4,
 "nbformat_minor": 2
}
